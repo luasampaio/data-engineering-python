{
 "cells": [
  {
   "cell_type": "code",
   "execution_count": null,
   "metadata": {
    "collapsed": false
   },
   "outputs": [],
   "source": [
    "idade = 10\n",
    "if idade >= 18:\n",
    "    print('Maior de idade')\n",
    "else:\n",
    "    print('Menor de idade')"
   ]
  },
  {
   "cell_type": "code",
   "execution_count": null,
   "metadata": {
    "collapsed": false
   },
   "outputs": [],
   "source": [
    "idade = 65\n",
    "if idade >= 18:\n",
    "    if idade >= 60:\n",
    "        print('idoso')\n",
    "    else:\n",
    "        print('adulto')\n",
    "else:\n",
    "    print('menor de idade')"
   ]
  },
  {
   "cell_type": "code",
   "execution_count": null,
   "metadata": {
    "collapsed": false
   },
   "outputs": [],
   "source": [
    "opcao = 3\n",
    "if opcao == 1:\n",
    "    preco = 15\n",
    "elif opcao == 2:\n",
    "    preco = 20\n",
    "elif opcao == 3:\n",
    "    preco = 30\n",
    "else:\n",
    "    preco = 50\n",
    "print(preco)"
   ]
  }
 ],
 "metadata": {
  "kernelspec": {
   "display_name": "base",
   "language": "python",
   "name": "python3"
  },
  "language_info": {
   "codemirror_mode": {
    "name": "ipython",
    "version": 3
   },
   "file_extension": ".py",
   "mimetype": "text/x-python",
   "name": "python",
   "nbconvert_exporter": "python",
   "pygments_lexer": "ipython3",
   "version": "3.12.7"
  }
 },
 "nbformat": 4,
 "nbformat_minor": 1
}
