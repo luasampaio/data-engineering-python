{
 "cells": [
  {
   "cell_type": "code",
   "execution_count": null,
   "metadata": {},
   "outputs": [],
   "source": [
    "# Linha de valores com Nones\n",
    "linha = [0.02, 0.30222, 0.02, None, None, None, 0.5, 0.625333, 0.5, None, None, 0.25, 0.04, 0.25, None, None, None, None, None, None]\n",
    "\n",
    "# Somar os valores ignorando os Nones\n",
    "soma = sum(valor for valor in linha if valor is not None)\n",
    "\n",
    "print(\"Soma: \", soma)"
   ]
  }
 ],
 "metadata": {
  "kernelspec": {
   "display_name": "base",
   "language": "python",
   "name": "python3"
  },
  "language_info": {
   "name": "python",
   "version": "3.12.7"
  }
 },
 "nbformat": 4,
 "nbformat_minor": 2
}
